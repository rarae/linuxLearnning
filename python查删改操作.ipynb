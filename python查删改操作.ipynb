{
 "cells": [
  {
   "cell_type": "code",
   "execution_count": 1,
   "metadata": {},
   "outputs": [],
   "source": [
    "import mysql.connector"
   ]
  },
  {
   "cell_type": "code",
   "execution_count": 8,
   "metadata": {},
   "outputs": [
    {
     "name": "stdout",
     "output_type": "stream",
     "text": [
      "Database version : 5.5.45 \n"
     ]
    },
    {
     "data": {
      "text/plain": [
       "True"
      ]
     },
     "execution_count": 8,
     "metadata": {},
     "output_type": "execute_result"
    }
   ],
   "source": [
    "#连接 mysql 的方法：connect('user','password','dbname')\n",
    "conn = mysql.connector.connect(user='root', password='374682827', database='test')\n",
    "#所有的查询，都在连接 con 的一个模块 cursor 上面运行的\n",
    "cursor = conn.cursor()\n",
    "\n",
    "#执行一个查询\n",
    "cur.execute(\"SELECT VERSION()\")\n",
    "#取得上个查询的结果，是单个结果\n",
    "data = cur.fetchone()\n",
    "print (\"Database version : %s \" % data)\n",
    "cursor.close()#先关闭游标\n",
    "conn.close()#再关闭数据库连接"
   ]
  },
  {
   "cell_type": "code",
   "execution_count": 9,
   "metadata": {},
   "outputs": [
    {
     "data": {
      "text/plain": [
       "True"
      ]
     },
     "execution_count": 9,
     "metadata": {},
     "output_type": "execute_result"
    }
   ],
   "source": [
    "conn = mysql.connector.connect(user='root', password='374682827', database='test')\n",
    "cursor = conn.cursor()\n",
    "\n",
    "cursor.close()\n",
    "conn.close()"
   ]
  },
  {
   "cell_type": "code",
   "execution_count": 3,
   "metadata": {},
   "outputs": [
    {
     "data": {
      "text/plain": [
       "True"
      ]
     },
     "execution_count": 3,
     "metadata": {},
     "output_type": "execute_result"
    }
   ],
   "source": [
    "conn = mysql.connector.connect(user='root', password='374682827', database='test')\n",
    "cursor = conn.cursor()\n",
    "\n",
    "#创建user表\n",
    "cursor.execute('drop table if exists user')\n",
    "sql=\"\"\"CREATE TABLE IF NOT EXISTS `user` (\n",
    "\t  `id` int(11) NOT NULL AUTO_INCREMENT,\n",
    "\t  `name` varchar(255) NOT NULL,\n",
    "\t  `age` int(11) NOT NULL,\n",
    "\t  PRIMARY KEY (`id`)\n",
    "\t) ENGINE=InnoDB  DEFAULT CHARSET=utf8 AUTO_INCREMENT=0\"\"\"\n",
    "cursor.execute(sql)\n",
    "\n",
    "cursor.close()\n",
    "conn.close()"
   ]
  },
  {
   "cell_type": "code",
   "execution_count": 4,
   "metadata": {},
   "outputs": [
    {
     "data": {
      "text/plain": [
       "True"
      ]
     },
     "execution_count": 4,
     "metadata": {},
     "output_type": "execute_result"
    }
   ],
   "source": [
    "conn = mysql.connector.connect(user='root', password='374682827', database='test')\n",
    "cursor = conn.cursor()\n",
    "\n",
    "##插入单条数据\n",
    "cursor.execute(\"insert into user values(1,'tom',18)\")\n",
    "\n",
    "#另一种插入数据的方式，通过字符串传入值\n",
    "sql=\"insert into user values(%s,%s,%s)\"\n",
    "cursor.execute(sql,(2,'kongsh',20))\n",
    "\n",
    "cursor.close()\n",
    "conn.commit()\n",
    "conn.close()"
   ]
  },
  {
   "cell_type": "code",
   "execution_count": 5,
   "metadata": {},
   "outputs": [
    {
     "data": {
      "text/plain": [
       "True"
      ]
     },
     "execution_count": 5,
     "metadata": {},
     "output_type": "execute_result"
    }
   ],
   "source": [
    "conn = mysql.connector.connect(user='root', password='374682827', database='test')\n",
    "cursor = conn.cursor()\n",
    "\n",
    "#批量插入多条数据\n",
    "sql=\"insert into user values(%s,%s,%s)\"\n",
    "cursor.executemany(sql,[(3,'wen',20),(4,'tom',10),(5,'test',30)])\n",
    "\n",
    "cursor.close()\n",
    "conn.commit()\n",
    "conn.close()"
   ]
  },
  {
   "cell_type": "code",
   "execution_count": 6,
   "metadata": {},
   "outputs": [
    {
     "name": "stdout",
     "output_type": "stream",
     "text": [
      "(1, 'tom', 18)\n",
      "(2, 'kongsh', 20)\n",
      "(3, 'wen', 20)\n",
      "(4, 'tom', 10)\n",
      "(5, 'test', 30)\n"
     ]
    },
    {
     "data": {
      "text/plain": [
       "True"
      ]
     },
     "execution_count": 6,
     "metadata": {},
     "output_type": "execute_result"
    }
   ],
   "source": [
    "conn = mysql.connector.connect(user='root', password='374682827', database='test')\n",
    "cursor = conn.cursor()\n",
    "\n",
    "#一条一条获取数据\n",
    "cursor.execute(\"select * from user;\")\n",
    "while 1:\n",
    "    res=cursor.fetchone()\n",
    "    if res is None:\n",
    "        #表示已经取完结果集\n",
    "        break\n",
    "    print (res)\n",
    "\n",
    "cursor.close()\n",
    "conn.close()"
   ]
  },
  {
   "cell_type": "code",
   "execution_count": 16,
   "metadata": {},
   "outputs": [
    {
     "name": "stdout",
     "output_type": "stream",
     "text": [
      "(1, 'tom', 18)\n",
      "(2, 'kongsh', 20)\n",
      "(3, 'wen', 20)\n"
     ]
    },
    {
     "data": {
      "text/plain": [
       "True"
      ]
     },
     "execution_count": 16,
     "metadata": {},
     "output_type": "execute_result"
    }
   ],
   "source": [
    "conn = mysql.connector.connect(user='root', password='374682827', database='test')\n",
    "cursor = conn.cursor(buffered=True)\n",
    "\n",
    "#获取一定数目的数据\n",
    "cursor.execute(\"select * from user;\")\n",
    "ress = cursor.fetchmany(3)\n",
    "for res in ress:\n",
    "    print(res)\n",
    "\n",
    "cursor.close()\n",
    "conn.close()"
   ]
  },
  {
   "cell_type": "code",
   "execution_count": 13,
   "metadata": {},
   "outputs": [
    {
     "name": "stdout",
     "output_type": "stream",
     "text": [
      "(1, 'tom', 18)\n",
      "(2, 'kongsh', 20)\n",
      "(3, 'wen', 20)\n",
      "(4, 'tom', 10)\n",
      "(5, 'test', 30)\n"
     ]
    },
    {
     "data": {
      "text/plain": [
       "True"
      ]
     },
     "execution_count": 13,
     "metadata": {},
     "output_type": "execute_result"
    }
   ],
   "source": [
    "conn = mysql.connector.connect(user='root', password='374682827', database='test')\n",
    "cursor = conn.cursor()\n",
    "\n",
    "#获取所有数据\n",
    "cursor.execute(\"select * from user;\")\n",
    "ress = cursor.fetchall()\n",
    "for res in ress:\n",
    "    print(res)\n",
    "\n",
    "cursor.close()\n",
    "conn.close()"
   ]
  },
  {
   "cell_type": "code",
   "execution_count": 18,
   "metadata": {},
   "outputs": [
    {
     "data": {
      "text/plain": [
       "True"
      ]
     },
     "execution_count": 18,
     "metadata": {},
     "output_type": "execute_result"
    }
   ],
   "source": [
    "conn = mysql.connector.connect(user='root', password='374682827', database='test')\n",
    "cursor = conn.cursor()\n",
    "\n",
    "#更新一条数据\n",
    "cursor.execute(\"update user set age=100 where name='kongsh'\")\n",
    "\n",
    "cursor.close()\n",
    "conn.commit()\n",
    "conn.close()"
   ]
  },
  {
   "cell_type": "code",
   "execution_count": 19,
   "metadata": {},
   "outputs": [
    {
     "data": {
      "text/plain": [
       "True"
      ]
     },
     "execution_count": 19,
     "metadata": {},
     "output_type": "execute_result"
    }
   ],
   "source": [
    "conn = mysql.connector.connect(user='root', password='374682827', database='test')\n",
    "cursor = conn.cursor()\n",
    "\n",
    "#更新2条数据\n",
    "sql=\"update user set age=%s where name=%s\"\n",
    "update=cursor.executemany(sql,[(15,'kongsh'),(18,'wen')])\n",
    "\n",
    "cursor.close()\n",
    "conn.commit()\n",
    "conn.close()"
   ]
  },
  {
   "cell_type": "code",
   "execution_count": 21,
   "metadata": {},
   "outputs": [
    {
     "data": {
      "text/plain": [
       "True"
      ]
     },
     "execution_count": 21,
     "metadata": {},
     "output_type": "execute_result"
    }
   ],
   "source": [
    "conn = mysql.connector.connect(user='root', password='374682827', database='test')\n",
    "cursor = conn.cursor()\n",
    "\n",
    "#删除1条数据\n",
    "cursor.execute(\"delete from user where id=1\")\n",
    "\n",
    "cursor.close()\n",
    "conn.commit()\n",
    "conn.close()"
   ]
  },
  {
   "cell_type": "code",
   "execution_count": 30,
   "metadata": {},
   "outputs": [
    {
     "data": {
      "text/plain": [
       "True"
      ]
     },
     "execution_count": 30,
     "metadata": {},
     "output_type": "execute_result"
    }
   ],
   "source": [
    "conn = mysql.connector.connect(user='root', password='374682827', database='test')\n",
    "cursor = conn.cursor()\n",
    "\n",
    "#删除2条数据\n",
    "sql=\"delete from user where id=%s \"\n",
    "cursor.executemany(sql,[(3,), (4,)])\n",
    "\n",
    "cursor.close()\n",
    "conn.commit()\n",
    "conn.close()"
   ]
  }
 ],
 "metadata": {
  "kernelspec": {
   "display_name": "Python 3",
   "language": "python",
   "name": "python3"
  },
  "language_info": {
   "codemirror_mode": {
    "name": "ipython",
    "version": 3
   },
   "file_extension": ".py",
   "mimetype": "text/x-python",
   "name": "python",
   "nbconvert_exporter": "python",
   "pygments_lexer": "ipython3",
   "version": "3.7.3"
  }
 },
 "nbformat": 4,
 "nbformat_minor": 4
}
