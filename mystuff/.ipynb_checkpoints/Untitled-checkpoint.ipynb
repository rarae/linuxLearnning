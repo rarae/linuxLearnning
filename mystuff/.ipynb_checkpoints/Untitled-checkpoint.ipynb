{
 "cells": [
  {
   "cell_type": "code",
   "execution_count": 45,
   "metadata": {
    "collapsed": false
   },
   "outputs": [
    {
     "name": "stdout",
     "output_type": "stream",
     "text": [
      "<a class=\"tit\" href=\"/jnyw/jdtt/2016/12/30/08214339550.html\" target=\"_blank\" title=\"标题：【“暨南之星”系列】硕博连读中科大国家实验室 将师从49岁院士的本科“学霸”\r",
      "点击数：325\r",
      "发表时间：16年12月30日\">【“暨南之星”系列】硕博连读中科大国家实验室 将师从49岁院…</a>\n",
      "<a class=\"tit\" href=\"/jnyw/jdtt/2016/12/26/16590839524.html\" target=\"_blank\" title=\"标题：“百年讲堂”十年耕耘筑造暨南“精神花园”\r",
      "点击数：481\r",
      "发表时间：16年12月26日\">“百年讲堂”十年耕耘筑造暨南“精神花园”</a>\n",
      "<a class=\"tit\" href=\"/jnyw/jdtt/2016/12/12/22401439490.html\" target=\"_blank\" title=\"标题：这里有一群朝气蓬勃的创新实践者\r",
      "点击数：438\r",
      "发表时间：16年12月12日\">这里有一群朝气蓬勃的创新实践者</a>\n",
      "<a class=\"tit\" href=\"/jnyw/jdtt/2016/12/13/18045739362.html\" target=\"_blank\" title=\"标题：第五届“5A卓越班集体”“暨南好班长”出炉\r",
      "点击数：187\r",
      "发表时间：16年12月14日\">第五届“5A卓越班集体”“暨南好班长”出炉</a>\n",
      "<a class=\"tit\" href=\"/jnyw/jdtt/2016/12/05/10321439277.html\" target=\"_blank\" title=\"标题：打响暨南药学国际名片：国际药物分析界盛会中国首站登陆我校\r",
      "点击数：837\r",
      "发表时间：16年12月08日\">打响暨南药学国际名片：国际药物分析界盛会中国…</a>\n",
      "<a class=\"tit\" href=\"/jnyw/jdtt/2016/11/29/08482239254.html\" target=\"_blank\" title=\"标题：酌一杯名叫校运会的酒\r",
      "点击数：166\r",
      "发表时间：16年11月29日\">酌一杯名叫校运会的酒</a>\n",
      "<a class=\"tit\" href=\"/jnyw/jdtt/2016/11/20/11210339145.html\" target=\"_blank\" title=\"标题：我校重金打造港澳台侨青年“双创”梦工厂\r",
      "点击数：392\r",
      "发表时间：16年11月20日\">我校重金打造港澳台侨青年“双创”梦工厂</a>\n",
      "<a class=\"tit\" href=\"/jnyw/jdtt/2016/11/03/10131738913.html\" target=\"_blank\" title=\"标题：以宁静之心 行致远之举\r",
      "点击数：840\r",
      "发表时间：16年11月03日\">以宁静之心 行致远之举</a>\n",
      "<a class=\"tit\" href=\"/jnyw/jdtt/2016/10/27/14213638872.html\" target=\"_blank\" title=\"标题：奇暨说 | 他们都是暨南人！超开心！\r",
      "点击数：483\r",
      "发表时间：16年10月27日\">奇暨说 | 他们都是暨南人！超开心！</a>\n",
      "<a class=\"tit\" href=\"/jnyw/jdtt/2016/10/19/16225438844.html\" target=\"_blank\" title=\"标题：暨大向全球征集110周年生日祝福！\r",
      "点击数：1331\r",
      "发表时间：16年10月19日\">暨大向全球征集110周年生日祝福！</a>\n",
      "<a class=\"tit\" href=\"/jnyw/jdtt/2016/10/09/16394438776.html\" target=\"_blank\" title=\"标题：【“暨南新力量”系列】中华文化植入新生教育，新生训练营以文化显成效\r",
      "点击数：319\r",
      "发表时间：16年10月09日\">【“暨南新力量”系列】中华文化植入新生教育，…</a>\n",
      "<a class=\"tit\" href=\"/jnyw/yw/2017/02/09/09375039628.html\" target=\"_blank\" title=\"标题：2016年度广东省科学技术奖揭晓  药学院团队再获一等奖\r",
      "点击数：265\r",
      "发表时间：17年02月09日\">2016年度广东省科学技术奖揭晓  药学院团队再获一等奖</a>\n",
      "<a class=\"tit\" href=\"/jnyw/yw/2017/01/26/11405839615.html\" target=\"_blank\" title=\"标题：校领导率团访问南亚西亚三国，拓展“一带一路”沿线教育合作\r",
      "点击数：931\r",
      "发表时间：17年01月26日\">校领导率团访问南亚西亚三国，拓展“一带一路”…</a>\n",
      "<a class=\"tit\" href=\"/jnyw/yw/2017/01/25/15393239614.html\" target=\"_blank\" title=\"标题：校领导春节前夕走访慰问我校院士\r",
      "点击数：1127\r",
      "发表时间：17年01月25日\">校领导春节前夕走访慰问我校院士</a>\n",
      "<a class=\"tit\" href=\"/jnyw/yw/2017/01/24/20211639613.html\" target=\"_blank\" title=\"标题：校领导为寒假留校本科生送“福” 师生共话新春\r",
      "点击数：743\r",
      "发表时间：17年01月24日\">校领导为寒假留校本科生送“福” 师生共话新春</a>\n",
      "<a class=\"tit\" href=\"/jnyw/yw/2017/01/24/17334439612.html\" target=\"_blank\" title=\"标题：林如鹏书记走访慰问离退休老党员\r",
      "点击数：681\r",
      "发表时间：17年01月24日\">林如鹏书记走访慰问离退休老党员</a>\n",
      "<a class=\"tit\" href=\"/jnyw/yw/2017/01/19/17474339609.html\" target=\"_blank\" title=\"标题：环境与气候研究院苏杭教授在《Science》子刊发表重要论文\r",
      "点击数：1299\r",
      "发表时间：17年01月19日\">环境与气候研究院苏杭教授在《Science》子刊发…</a>\n",
      "<a class=\"tit\" href=\"/jnyw/yw/2017/01/18/14550339603.html\" target=\"_blank\" title=\"标题：胡军校长、林如鹏书记发表2017年新春贺词\r",
      "点击数：2073\r",
      "发表时间：17年01月18日\">胡军校长、林如鹏书记发表2017年新春贺词</a>\n",
      "<a class=\"tit\" href=\"/jnyw/yw/2017/01/17/18230039602.html\" target=\"_blank\" title=\"标题：2016年暨南大学“十大新闻”揭晓\r",
      "点击数：1271\r",
      "发表时间：17年01月17日\">2016年暨南大学“十大新闻”揭晓</a>\n",
      "<a class=\"tit\" href=\"/jnyw/yw/2017/01/17/16085539598.html\" target=\"_blank\" title=\"标题：我校第八届学术委员会第二次全体会议召开\r",
      "点击数：594\r",
      "发表时间：17年01月17日\">我校第八届学术委员会第二次全体会议召开</a>\n",
      "<a class=\"tit\" href=\"/jnyw/yw/2017/01/17/14403639597.html\" target=\"_blank\" title=\"标题：我校举行2017年港澳校董迎春座谈会\r",
      "点击数：330\r",
      "发表时间：17年01月17日\">我校举行2017年港澳校董迎春座谈会</a>\n",
      "<a class=\"tit\" href=\"/jnyw/yw/2017/01/16/13131839592.html\" target=\"_blank\" title=\"标题：“暨南大学紫荆谷创新创业发展辅导中心”揭牌仪式举行\r",
      "点击数：260\r",
      "发表时间：17年01月16日\">“暨南大学紫荆谷创新创业发展辅导中心”揭牌仪…</a>\n"
     ]
    }
   ],
   "source": [
    "import requests\n",
    "from bs4 import BeautifulSoup\n",
    "\n",
    "rec = requests.get('http://news.163.com/domestic/')  \n",
    "rec.encoding = 'utf-8'   #获取网页\n",
    "\n",
    "soup = BeautifulSoup(rec.text, 'html.parser')   #BeautifulSoup解析\n",
    "\n",
    "for news in soup.select('.tit'):\n",
    "    print news"
   ]
  }
 ],
 "metadata": {
  "kernelspec": {
   "display_name": "Python 2",
   "language": "python",
   "name": "python2"
  },
  "language_info": {
   "codemirror_mode": {
    "name": "ipython",
    "version": 2
   },
   "file_extension": ".py",
   "mimetype": "text/x-python",
   "name": "python",
   "nbconvert_exporter": "python",
   "pygments_lexer": "ipython2",
   "version": "2.7.12+"
  }
 },
 "nbformat": 4,
 "nbformat_minor": 2
}
